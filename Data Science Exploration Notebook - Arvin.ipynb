{
 "cells": [
  {
   "cell_type": "markdown",
   "id": "6602ee13",
   "metadata": {},
   "source": [
    "# Notebook Title\n",
    "Data Science Exploration Notebook"
   ]
  },
  {
   "cell_type": "markdown",
   "id": "96959d7c",
   "metadata": {},
   "source": [
    "## Introduction\n",
    "Welcome to this Data Science Notebook! This notebook covers various exercises related to data science concepts and coding examples."
   ]
  },
  {
   "cell_type": "markdown",
   "id": "8116f893",
   "metadata": {},
   "source": [
    "## Data Science Languages\n",
    "1. Python\n",
    "2. R\n",
    "3. SQL"
   ]
  },
  {
   "cell_type": "markdown",
   "id": "ae5cb8ea",
   "metadata": {},
   "source": [
    "## Data Science Libraries\n",
    "1. NumPy\n",
    "2. Pandas\n",
    "3. Matplotlib"
   ]
  },
  {
   "cell_type": "markdown",
   "id": "fc6e1964",
   "metadata": {},
   "source": [
    "## Data Science Tools Table\n",
    "\n",
    "| Tool            | Description                           |\n",
    "| --------------- | ------------------------------------- |\n",
    "| Jupyter Notebook| Interactive computing environment    |\n",
    "| VSCode          | Lightweight code editor               |\n",
    "| Git             | Version control system                |"
   ]
  },
  {
   "cell_type": "markdown",
   "id": "4caee7ee",
   "metadata": {},
   "source": [
    "## Arithmetic Expression Examples\n",
    "In this section, we'll explore some examples of arithmetic expressions and calculations."
   ]
  },
  {
   "cell_type": "markdown",
   "id": "e37929a3",
   "metadata": {},
   "source": [
    "## Code Cell - Multiply and Add Numbers\n",
    "```python\n",
    "# Multiply and Add Numbers\n"
   ]
  },
  {
   "cell_type": "code",
   "execution_count": 25,
   "id": "22145873",
   "metadata": {},
   "outputs": [
    {
     "name": "stdout",
     "output_type": "stream",
     "text": [
      "Enter the first number: 10\n",
      "Enter the second number: 11\n",
      "\n",
      "The sum of 10 and 11 is: 21\n",
      "The product of 10 and 11 is: 110\n"
     ]
    }
   ],
   "source": [
    "first_number = int(input(\"Enter the first number: \"))\n",
    "\n",
    "second_number = int(input(\"Enter the second number: \"))\n",
    "print()\n",
    "sum = first_number + second_number\n",
    "product = first_number * second_number\n",
    "print(f\"The sum of {first_number} and {second_number} is: {sum}\")\n",
    "print(f\"The product of {first_number} and {second_number} is: {product}\")"
   ]
  },
  {
   "cell_type": "markdown",
   "id": "5b6964bd",
   "metadata": {},
   "source": [
    "# Convert Minutes to Hours"
   ]
  },
  {
   "cell_type": "code",
   "execution_count": 27,
   "id": "d4cedd05",
   "metadata": {},
   "outputs": [
    {
     "name": "stdout",
     "output_type": "stream",
     "text": [
      "Enter the number of hours: 9\n",
      "Hours: 9\n",
      "when converted to Minutes: 540\n"
     ]
    }
   ],
   "source": [
    "hours = int(input(\"Enter the number of hours: \"))\n",
    "minutes = hours*60\n",
    "print(\"Hours:\", hours)\n",
    "print (f\"when converted to Minutes:\", minutes)"
   ]
  },
  {
   "cell_type": "markdown",
   "id": "1dbba337",
   "metadata": {},
   "source": [
    "## Objectives\n",
    "1. Learn and practice basic data science concepts.\n",
    "2. Explore coding examples in Python.\n",
    "3. Understand arithmetic expressions and conversions."
   ]
  },
  {
   "cell_type": "markdown",
   "id": "69656af1",
   "metadata": {},
   "source": [
    "## Author\n",
    "\n",
    "Prepared by: Arvin Caabay"
   ]
  },
  {
   "cell_type": "code",
   "execution_count": null,
   "id": "fa64f677",
   "metadata": {},
   "outputs": [],
   "source": []
  }
 ],
 "metadata": {
  "kernelspec": {
   "display_name": "Python 3 (ipykernel)",
   "language": "python",
   "name": "python3"
  },
  "language_info": {
   "codemirror_mode": {
    "name": "ipython",
    "version": 3
   },
   "file_extension": ".py",
   "mimetype": "text/x-python",
   "name": "python",
   "nbconvert_exporter": "python",
   "pygments_lexer": "ipython3",
   "version": "3.11.4"
  }
 },
 "nbformat": 4,
 "nbformat_minor": 5
}
